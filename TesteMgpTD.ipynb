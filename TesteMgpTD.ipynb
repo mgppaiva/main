{
  "nbformat": 4,
  "nbformat_minor": 0,
  "metadata": {
    "colab": {
      "name": "TesteMgpTD.ipynb",
      "provenance": [],
      "collapsed_sections": [],
      "authorship_tag": "ABX9TyPmT5YGG979tgrsoKIuF03K",
      "include_colab_link": true
    },
    "kernelspec": {
      "name": "python3",
      "display_name": "Python 3"
    }
  },
  "cells": [
    {
      "cell_type": "markdown",
      "metadata": {
        "id": "view-in-github",
        "colab_type": "text"
      },
      "source": [
        "<a href=\"https://colab.research.google.com/github/mgppaiva/main/blob/mgppaiva-patch-1/TesteMgpTD.ipynb\" target=\"_parent\"><img src=\"https://colab.research.google.com/assets/colab-badge.svg\" alt=\"Open In Colab\"/></a>"
      ]
    },
    {
      "cell_type": "code",
      "metadata": {
        "id": "mC6fB4pLr93-",
        "outputId": "54372f14-6201-48be-807c-8a68eafd0986",
        "colab": {
          "base_uri": "https://localhost:8080/",
          "height": 445
        }
      },
      "source": [
        "!pip install pipenv"
      ],
      "execution_count": 4,
      "outputs": [
        {
          "output_type": "stream",
          "text": [
            "Collecting pipenv\n",
            "\u001b[?25l  Downloading https://files.pythonhosted.org/packages/8b/02/cf3cb144314f56eaf388a83bcf481a3200c9df46ca6ceeecfb6eb4be155a/pipenv-2020.8.13-py2.py3-none-any.whl (3.9MB)\n",
            "\u001b[K     |████████████████████████████████| 3.9MB 2.7MB/s \n",
            "\u001b[?25hCollecting virtualenv-clone>=0.2.5\n",
            "  Downloading https://files.pythonhosted.org/packages/83/b8/cd931487d250565392c39409117436d910232c8a3ac09ea2fb62a6c47bff/virtualenv_clone-0.5.4-py2.py3-none-any.whl\n",
            "Requirement already satisfied: pip>=18.0 in /usr/local/lib/python3.6/dist-packages (from pipenv) (19.3.1)\n",
            "Collecting virtualenv\n",
            "\u001b[?25l  Downloading https://files.pythonhosted.org/packages/7e/d0/8209bd40c9e1910a0b95bcc77f207e35b5b3657beb7f65d18434f9be22be/virtualenv-20.0.32-py2.py3-none-any.whl (4.9MB)\n",
            "\u001b[K     |████████████████████████████████| 4.9MB 37.6MB/s \n",
            "\u001b[?25hRequirement already satisfied: certifi in /usr/local/lib/python3.6/dist-packages (from pipenv) (2020.6.20)\n",
            "Requirement already satisfied: setuptools>=36.2.1 in /usr/local/lib/python3.6/dist-packages (from pipenv) (50.3.0)\n",
            "Requirement already satisfied: filelock<4,>=3.0.0 in /usr/local/lib/python3.6/dist-packages (from virtualenv->pipenv) (3.0.12)\n",
            "Collecting distlib<1,>=0.3.1\n",
            "\u001b[?25l  Downloading https://files.pythonhosted.org/packages/f5/0a/490fa011d699bb5a5f3a0cf57de82237f52a6db9d40f33c53b2736c9a1f9/distlib-0.3.1-py2.py3-none-any.whl (335kB)\n",
            "\u001b[K     |████████████████████████████████| 337kB 38.7MB/s \n",
            "\u001b[?25hRequirement already satisfied: six<2,>=1.9.0 in /usr/local/lib/python3.6/dist-packages (from virtualenv->pipenv) (1.15.0)\n",
            "Collecting importlib-resources>=1.0; python_version < \"3.7\"\n",
            "  Downloading https://files.pythonhosted.org/packages/ba/03/0f9595c0c2ef12590877f3c47e5f579759ce5caf817f8256d5dcbd8a1177/importlib_resources-3.0.0-py2.py3-none-any.whl\n",
            "Collecting appdirs<2,>=1.4.3\n",
            "  Downloading https://files.pythonhosted.org/packages/3b/00/2344469e2084fb287c2e0b57b72910309874c3245463acd6cf5e3db69324/appdirs-1.4.4-py2.py3-none-any.whl\n",
            "Requirement already satisfied: importlib-metadata<3,>=0.12; python_version < \"3.8\" in /usr/local/lib/python3.6/dist-packages (from virtualenv->pipenv) (2.0.0)\n",
            "Requirement already satisfied: zipp>=0.4; python_version < \"3.8\" in /usr/local/lib/python3.6/dist-packages (from importlib-resources>=1.0; python_version < \"3.7\"->virtualenv->pipenv) (3.2.0)\n",
            "Installing collected packages: virtualenv-clone, distlib, importlib-resources, appdirs, virtualenv, pipenv\n",
            "Successfully installed appdirs-1.4.4 distlib-0.3.1 importlib-resources-3.0.0 pipenv-2020.8.13 virtualenv-20.0.32 virtualenv-clone-0.5.4\n"
          ],
          "name": "stdout"
        }
      ]
    },
    {
      "cell_type": "code",
      "metadata": {
        "id": "u4tqafkMtv-I",
        "outputId": "84928d54-d048-47aa-eb91-838f051e5027",
        "colab": {
          "base_uri": "https://localhost:8080/",
          "height": 139
        }
      },
      "source": [
        "!pip install selenium"
      ],
      "execution_count": 6,
      "outputs": [
        {
          "output_type": "stream",
          "text": [
            "Collecting selenium\n",
            "\u001b[?25l  Downloading https://files.pythonhosted.org/packages/80/d6/4294f0b4bce4de0abf13e17190289f9d0613b0a44e5dd6a7f5ca98459853/selenium-3.141.0-py2.py3-none-any.whl (904kB)\n",
            "\u001b[K     |████████████████████████████████| 911kB 2.7MB/s \n",
            "\u001b[?25hRequirement already satisfied: urllib3 in /usr/local/lib/python3.6/dist-packages (from selenium) (1.24.3)\n",
            "Installing collected packages: selenium\n",
            "Successfully installed selenium-3.141.0\n"
          ],
          "name": "stdout"
        }
      ]
    },
    {
      "cell_type": "code",
      "metadata": {
        "id": "-l49NBhNuARS",
        "outputId": "91ba101b-219f-48eb-e62d-b06900dce6b0",
        "colab": {
          "base_uri": "https://localhost:8080/",
          "height": 105
        }
      },
      "source": [
        "!pip install python-dotenv"
      ],
      "execution_count": 10,
      "outputs": [
        {
          "output_type": "stream",
          "text": [
            "Collecting python-dotenv\n",
            "  Downloading https://files.pythonhosted.org/packages/f2/16/28d434b28c5be29a6af8fd0e3a2bda3bd30500ef0cd17bc79f7a6793a8d4/python_dotenv-0.14.0-py2.py3-none-any.whl\n",
            "Installing collected packages: python-dotenv\n",
            "Successfully installed python-dotenv-0.14.0\n"
          ],
          "name": "stdout"
        }
      ]
    },
    {
      "cell_type": "code",
      "metadata": {
        "id": "l0ja6n0QtqfH"
      },
      "source": [
        "from selenium import webdriver\n",
        "from selenium.webdriver import FirefoxOptions\n",
        "from selenium.webdriver.support.ui import Select\n",
        "import sys\n",
        "import datetime\n",
        "import csv\n",
        "import os\n",
        "from dotenv import load_dotenv\n",
        "from dotenv import find_dotenv\n",
        "import calendar\n",
        "import shutil"
      ],
      "execution_count": 12,
      "outputs": []
    },
    {
      "cell_type": "code",
      "metadata": {
        "id": "PUm4CRg3wbZt",
        "outputId": "1dc814bf-9077-47e1-9c38-003ee49e0cd7",
        "colab": {
          "base_uri": "https://localhost:8080/",
          "height": 34
        }
      },
      "source": [
        "load_dotenv(find_dotenv())"
      ],
      "execution_count": 13,
      "outputs": [
        {
          "output_type": "execute_result",
          "data": {
            "text/plain": [
              "True"
            ]
          },
          "metadata": {
            "tags": []
          },
          "execution_count": 13
        }
      ]
    },
    {
      "cell_type": "code",
      "metadata": {
        "id": "_E82WNALwee3"
      },
      "source": [
        "def get_ultima_data_disponivel_base(path_file_base):\n",
        "    with open(path_file_base, 'r', encoding='utf8') as f:\n",
        "        for row in reversed(list(csv.reader(f))):\n",
        "            data = row[0].split(';')[0]\n",
        "            if data in ['Data', 'dt_referencia']:\n",
        "                return datetime.date(2000, 1, 1)\n",
        "            return datetime.datetime.strptime(data[0:10], '%Y-%m-%d').date()"
      ],
      "execution_count": 14,
      "outputs": []
    },
    {
      "cell_type": "code",
      "metadata": {
        "id": "HY9bI0pQwlo-"
      },
      "source": [
        "def do_login(driver, user_login, pass_login):\n",
        "    driver.get('https://portalinvestidor.tesourodireto.com.br/')\n",
        "    driver.find_element_by_id('BodyContent_txtLogin').send_keys(\"\", user_login)\n",
        "    driver.find_element_by_id('BodyContent_txtSenha').send_keys(\"\", user_pass)\n",
        "    driver.find_element_by_id('BodyContent_btnLogar').click()\n",
        "    return driver\n",
        "    print(\"driver\")"
      ],
      "execution_count": 25,
      "outputs": []
    },
    {
      "cell_type": "code",
      "metadata": {
        "id": "AWcIoJk-xkJf",
        "outputId": "9f1e18ff-91a1-4171-9036-7d728f340522",
        "colab": {
          "base_uri": "https://localhost:8080/",
          "height": 34
        }
      },
      "source": [
        "print(\"Início da captura dos extratos: %s\" % str(datetime.datetime.now()))"
      ],
      "execution_count": 17,
      "outputs": [
        {
          "output_type": "stream",
          "text": [
            "Início da captura dos extratos: 2020-10-03 23:29:34.761497\n"
          ],
          "name": "stdout"
        }
      ]
    },
    {
      "cell_type": "code",
      "metadata": {
        "id": "zdwhNn-AxvVS"
      },
      "source": [
        "name_file_base = 'extrato_tesouro_direto.csv'\n",
        "path_file_base = os.path.join(name_file_base)"
      ],
      "execution_count": 18,
      "outputs": []
    },
    {
      "cell_type": "code",
      "metadata": {
        "id": "CJp-2_4Bx5Z4",
        "outputId": "b904d659-5055-40b0-966e-4be010693f1e",
        "colab": {
          "base_uri": "https://localhost:8080/",
          "height": 51
        }
      },
      "source": [
        "print(name_file_base)\n",
        "print(path_file_base)"
      ],
      "execution_count": 20,
      "outputs": [
        {
          "output_type": "stream",
          "text": [
            "extrato_tesouro_direto.csv\n",
            "extrato_tesouro_direto.csv\n"
          ],
          "name": "stdout"
        }
      ]
    },
    {
      "cell_type": "code",
      "metadata": {
        "id": "ZHihqNd7yKv8"
      },
      "source": [
        "opts = FirefoxOptions()\n",
        "opts.add_argument(\"--headless\")\n",
        "driver = webdriver.Firefox(firefox_options=opts, executable_path=r'drivers/geckodriver')"
      ],
      "execution_count": null,
      "outputs": []
    }
  ]
}